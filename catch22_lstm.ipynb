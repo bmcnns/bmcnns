{
  "nbformat": 4,
  "nbformat_minor": 0,
  "metadata": {
    "colab": {
      "provenance": [],
      "authorship_tag": "ABX9TyNph/cFTgzObJzFyNpWg36J",
      "include_colab_link": true
    },
    "kernelspec": {
      "name": "python3",
      "display_name": "Python 3"
    },
    "language_info": {
      "name": "python"
    },
    "accelerator": "GPU",
    "gpuClass": "standard"
  },
  "cells": [
    {
      "cell_type": "markdown",
      "metadata": {
        "id": "view-in-github",
        "colab_type": "text"
      },
      "source": [
        "<a href=\"https://colab.research.google.com/github/bmcnns/bmcnns/blob/main/catch22_lstm.ipynb\" target=\"_parent\"><img src=\"https://colab.research.google.com/assets/colab-badge.svg\" alt=\"Open In Colab\"/></a>"
      ]
    },
    {
      "cell_type": "markdown",
      "source": [
        "Dependencies:\n",
        "   - pypdf2: for reading PDF files"
      ],
      "metadata": {
        "id": "8rdmqhoBbgMO"
      }
    },
    {
      "cell_type": "code",
      "source": [
        " # !pip install pypdf2"
      ],
      "metadata": {
        "id": "4LVn1mBobc9P"
      },
      "execution_count": 4,
      "outputs": []
    },
    {
      "cell_type": "markdown",
      "source": [
        "# Collect a large dataset of text that you want the model to learn from. This could be a corpus of books, articles, or any other type of text."
      ],
      "metadata": {
        "id": "T-K7x3rdYl2X"
      }
    },
    {
      "cell_type": "code",
      "execution_count": 5,
      "metadata": {
        "id": "qVFHndToxIWJ",
        "colab": {
          "base_uri": "https://localhost:8080/"
        },
        "outputId": "b248e7c4-a2f9-45ed-fd6b-80bb9b22e6ae"
      },
      "outputs": [
        {
          "output_type": "stream",
          "name": "stdout",
          "text": [
            "Corpus Length 1039509\n"
          ]
        }
      ],
      "source": [
        "# Collect a large dataset of text that you want the model to learn from.\n",
        "# This could be a corpus of books, articles or any other type of text.\n",
        "\n",
        "import PyPDF2\n",
        "\n",
        "# Open the PDF file in read-binary mode\n",
        "with open('my_data/catch22.pdf', 'rb') as file:\n",
        "  pdf = PyPDF2.PdfFileReader(file)\n",
        "  text = ''\n",
        "\n",
        "  for i in range(pdf.getNumPages()):\n",
        "    page_text = pdf.getPage(i).extractText()\n",
        "  \n",
        "    # Append the page text to the overall text\n",
        "    text += page_text\n",
        "\n",
        "  text = text.lower()\n",
        "\n",
        "# Preprocess the text by removing PDF header information.\n",
        "header_length = 186\n",
        "text = text[header_length:]\n",
        "\n",
        "# Convert the text to lowercase\n",
        "text = text.lower()\n",
        "\n",
        "print('Corpus Length', len(text))"
      ]
    },
    {
      "cell_type": "markdown",
      "source": [
        "# Preprocess the text data by extracting partially overlapping sequences of length maxlen, one-hot encode them and then packing them in a 3D Numpy array x of shape (sequences, maxlen, unique_characters)"
      ],
      "metadata": {
        "id": "D9XA-zEPYsho"
      }
    },
    {
      "cell_type": "code",
      "source": [
        "import numpy as np\n",
        "\n",
        "# Extracting sequences of 60 characters.\n",
        "maxlen = 60\n",
        "\n",
        "#You'll sample a new sequence every 3 characters.\n",
        "step = 3\n",
        "\n",
        "# Holds the extracted sequences\n",
        "sentences = []\n",
        "\n",
        "# Holds the targets\n",
        "next_chars = []\n",
        "\n",
        "for i in range(0, len(text) - maxlen, step):\n",
        "  sentences.append(text[i: i + maxlen])\n",
        "  next_chars.append(text[i + maxlen])\n",
        "\n",
        "print('Number of sequences:', len(sentences))\n",
        "\n",
        "# Dictionary that maps unique characters to their index in the list \"chars\"\n",
        "chars = sorted(list(set(text)))\n",
        "print('Unique characters:', len(chars))\n",
        "char_indices = dict((char, chars.index(char)) for char in chars)\n",
        "\n",
        "print('Vectorization...')\n",
        "# One-hot encodes the characters into binary arrays.\n",
        "x = np.zeros((len(sentences), maxlen, len(chars)), dtype=bool)\n",
        "y = np.zeros((len(sentences), len(chars)), dtype=bool)\n",
        "for i, sentence in enumerate(sentences):\n",
        "  for t, char in enumerate(sentence):\n",
        "    x[i, t, char_indices[char]] = 1\n",
        "  y[i, char_indices[next_chars[i]]] = 1"
      ],
      "metadata": {
        "colab": {
          "base_uri": "https://localhost:8080/"
        },
        "id": "xiX-doslcvtI",
        "outputId": "1f5c1c80-ba25-476e-a5d3-a180eb13a002"
      },
      "execution_count": 6,
      "outputs": [
        {
          "output_type": "stream",
          "name": "stdout",
          "text": [
            "Number of sequences: 346483\n",
            "Unique characters: 60\n",
            "Vectorization...\n"
          ]
        }
      ]
    },
    {
      "cell_type": "markdown",
      "source": [
        "# Build the model"
      ],
      "metadata": {
        "id": "YKDoutD5fnaj"
      }
    },
    {
      "cell_type": "code",
      "source": [
        "from keras.models import Sequential\n",
        "from keras.layers import LSTM, Dense\n",
        "\n",
        "# Define the model\n",
        "model = Sequential()\n",
        "model.add(LSTM(128, input_shape=(maxlen, len(chars))))\n",
        "model.add(Dense(len(chars), activation='softmax'))\n",
        "\n",
        "# Compile the model\n",
        "model.compile(loss='categorical_crossentropy', optimizer='adam', metrics=['accuracy'])"
      ],
      "metadata": {
        "id": "cJtzf7dyfpdN"
      },
      "execution_count": 7,
      "outputs": []
    },
    {
      "cell_type": "markdown",
      "source": [
        "# Train the model"
      ],
      "metadata": {
        "id": "tCpsV_QVgeJF"
      }
    },
    {
      "cell_type": "code",
      "source": [
        "# Fit the model to the training data\n",
        "model.fit(x, y, epochs=10, batch_size=128)"
      ],
      "metadata": {
        "colab": {
          "base_uri": "https://localhost:8080/"
        },
        "id": "WC8l4_UIgfPe",
        "outputId": "0f6a5574-42bf-435f-b13a-7bf2abd378fc"
      },
      "execution_count": 8,
      "outputs": [
        {
          "output_type": "stream",
          "name": "stdout",
          "text": [
            "Epoch 1/10\n",
            "2707/2707 [==============================] - 25s 7ms/step - loss: 2.3818 - accuracy: 0.3194\n",
            "Epoch 2/10\n",
            "2707/2707 [==============================] - 18s 7ms/step - loss: 2.0129 - accuracy: 0.4070\n",
            "Epoch 3/10\n",
            "2707/2707 [==============================] - 19s 7ms/step - loss: 1.8792 - accuracy: 0.4438\n",
            "Epoch 4/10\n",
            "2707/2707 [==============================] - 20s 7ms/step - loss: 1.7901 - accuracy: 0.4686\n",
            "Epoch 5/10\n",
            "2707/2707 [==============================] - 19s 7ms/step - loss: 1.7213 - accuracy: 0.4885\n",
            "Epoch 6/10\n",
            "2707/2707 [==============================] - 19s 7ms/step - loss: 1.6686 - accuracy: 0.5040\n",
            "Epoch 7/10\n",
            "2707/2707 [==============================] - 19s 7ms/step - loss: 1.6267 - accuracy: 0.5157\n",
            "Epoch 8/10\n",
            "2707/2707 [==============================] - 18s 7ms/step - loss: 1.5914 - accuracy: 0.5246\n",
            "Epoch 9/10\n",
            "2707/2707 [==============================] - 18s 7ms/step - loss: 1.5611 - accuracy: 0.5325\n",
            "Epoch 10/10\n",
            "2707/2707 [==============================] - 19s 7ms/step - loss: 1.5356 - accuracy: 0.5398\n"
          ]
        },
        {
          "output_type": "execute_result",
          "data": {
            "text/plain": [
              "<keras.callbacks.History at 0x7fdfb05246d0>"
            ]
          },
          "metadata": {},
          "execution_count": 8
        }
      ]
    },
    {
      "cell_type": "markdown",
      "source": [
        ":"
      ],
      "metadata": {
        "id": "sGo2ew5ke9zV"
      }
    },
    {
      "cell_type": "markdown",
      "source": [
        "Sampling from the soft-max distribution of the model"
      ],
      "metadata": {
        "id": "imtvE9A5gpoV"
      }
    },
    {
      "cell_type": "code",
      "source": [
        "# The higher the temperature, the higher the entropy of the sampling.\n",
        "def sample(preds, temperature=1.0):\n",
        "  preds = np.asarray(preds).astype('float64')\n",
        "  preds = np.log(preds) / temperature\n",
        "  exp_preds = np.exp(preds)\n",
        "  preds = exp_preds / np.sum(exp_preds)\n",
        "  probas = np.random.multinomial(1, preds, 1)\n",
        "  return np.argmax(probas)"
      ],
      "metadata": {
        "id": "fdXBt82AgpJy"
      },
      "execution_count": 9,
      "outputs": []
    },
    {
      "cell_type": "markdown",
      "source": [
        "The temperature parameter controls the randomness or unpredictability of the generated text. A higher temperature will result in more random or unpredictable text, while a lower temperature will result in more predictable text. This is because the temperature affects the entropy (randomness) of the sampling process.\n",
        "\n",
        "The function returns the index of the element with the highest probability in the resulting sample."
      ],
      "metadata": {
        "id": "nfj7ZqdVh1Xs"
      }
    },
    {
      "cell_type": "markdown",
      "source": [
        "# Generating Text"
      ],
      "metadata": {
        "id": "tZ3XakTRiG4e"
      }
    },
    {
      "cell_type": "code",
      "source": [
        "import random\n",
        "import sys\n",
        "\n",
        "for epoch in range(1, 60):\n",
        "  print('epoch', epoch)\n",
        "  model.fit(x, y, batch_size=128, epochs=1)\n",
        "\n",
        "  # Selects a text seed at random\n",
        "  start_index = random.randint(0, len(text) - maxlen - 1)\n",
        "  generated_text = text[start_index: start_index + maxlen]\n",
        "  print('--- Generating with seed: \"' + generated_text + '\"')\n",
        "\n",
        "  for temperature in [0.2, 0.5, 1.0, 1.2]:\n",
        "    print('---- temperature:', temperature)\n",
        "    for i in range(400):\n",
        "      # One-hot encodes the characters generated so far\n",
        "      sampled = np.zeros((1, maxlen, len(chars)))\n",
        "      for t, char in enumerate(generated_text):\n",
        "        sampled[0, t, char_indices[char]] = 1\n",
        "      \n",
        "      # Samples the next character\n",
        "      preds = model.predict(sampled, verbose=0)[0]\n",
        "      next_index = sample(preds, temperature)\n",
        "      next_char = chars[next_index]\n",
        "\n",
        "      generated_text += next_char\n",
        "      generated_text = generated_text[1:]\n",
        "\n",
        "      print(next_char, end='')\n",
        "    print('')\n"
      ],
      "metadata": {
        "colab": {
          "base_uri": "https://localhost:8080/"
        },
        "id": "nFwMYGKuiVda",
        "outputId": "2d0e6b37-17ad-4b9a-bc6b-baffbaa29e49"
      },
      "execution_count": null,
      "outputs": [
        {
          "output_type": "stream",
          "name": "stdout",
          "text": [
            "epoch 1\n",
            "2707/2707 [==============================] - 19s 7ms/step - loss: 1.4728 - accuracy: 0.5562\n",
            "--- Generating with seed: \"ht to be glad you've got any temperature at all.\"\n",
            "     doc d\"\n",
            "---- temperature: 0.2\n",
            "aneeka she was a man of the start of a fell him and start and the should in the start of the started the start of the same the started the start and his forther of his forther the same the same to make a string and the same the started his finter the start and stop of the started the start and shook and the same the started the started the started and streased and the same no distand of the start \n",
            "---- temperature: 0.5\n",
            "with his sile the stromm to sise was she sturned his eyes perse of the starting them and the good hought to sight, and when he was a same to berong the store and had colonel cathcart to knop out the concons and then engered the dunbar morning in the strove her orr made or as on a mens on the officers and the the back to danbersting and tome them and was his something and into a panized the but the\n",
            "---- temperature: 1.0\n",
            "n doc done odse dewarly displarely, at his questak andersh head and get me.\" suil the getsion as a back to placmed out, and a resuppout\n",
            "came regindizing to man at\n",
            "even thousing of queter, is that's anoid on, wend i do all they were all comentine, and i peckemed and he?\"\n",
            "     \"is though you going ivint?\" major doc distentqseration a mactefora. how. major durbs that missterzers,\n",
            "\"is kigndarion, even\n",
            "---- temperature: 1.2\n",
            " quesion, bur thing, busking down eicket rogghor as aftick and\n",
            "capttak thas awoudvioued babjer of the otentless was grupping and at he's even senvemente. lame affuldy of tige a bongisench as his prigh,\n",
            "as ablitters vicke's shovetate on\n",
            "rose, and breay briggus in a\n",
            "timed, liver. \"we bound we want tow\n",
            "were that the bilp voidously tomatos.\"\n",
            "     \"nattey costinive over?\"\n",
            "     \"thehe so evorts. mila, a\n",
            "epoch 2\n",
            "2707/2707 [==============================] - 18s 7ms/step - loss: 1.4576 - accuracy: 0.5607\n",
            "--- Generating with seed: \"   \"i'm not living in this one alone,\" yossarian said with a\"\n",
            "---- temperature: 0.2\n",
            " start of a frammed and stop and start of the stop and start and start and combat the started at the sent and was a feet and the chaplain was a fly more to the more and combat the chaplain with a breath the contrilated at the floor the chaplain was a fly more to consin and start of a fram and the chaplain was a feet for the streat of a monting and his finder to the started to the start to do befor\n",
            "---- temperature: 0.5\n",
            "e he was and the head the word and plane and tring and been the chaplain were a dean to be and start of chaplain bed him and doc daneeka sueded to sight of the bold on the there was a but sugger and broke a but the head the countine and distand milo better of the comine and the best on his finter the most of the some the colonel cathcart tome over a good every never some of the almost him of the c\n",
            "---- temperature: 1.0\n",
            "loor were bespoatcant as docture, go of repotiand andovently in. genearly a think grtes am buck and stilly buhbard, fent a brown you, siderstreft what the colonel kill if what you sleep are to dewaing, woll from lighter and more to the sw. the carmawned objecting wanting fist of which i't seemed must, the word became\n",
            "returing horoons?\"\n",
            "     \"it abains to want.\"\n",
            "     \"then\n",
            "thas follord usn of critr\n",
            "---- temperature: 1.2\n",
            "ime, peny stremhed ortarod, enough squadred. uch as\n",
            "vald clatedinge, go bour. the queitht's appraied did that jackfiend him to\n",
            "know an onge.\" the men clined. \"yes, you, lost.\"\n",
            "     the others\n",
            "with shair to? if you doing ano demes a plane\n",
            "surfuese that\n",
            "captain?\"\n",
            "     the beft one.\n",
            "i woshesing a loand everyther just there?\"\n",
            "     \"hh? chasen's green.\"\n",
            "  '  captaim's heawly syiknnifed\n",
            "gain and dread. \n",
            "epoch 3\n",
            "2707/2707 [==============================] - 19s 7ms/step - loss: 1.4439 - accuracy: 0.5643\n",
            "--- Generating with seed: \"nt every adverb and every adjective.\n",
            "the next day he made wa\"\n",
            "---- temperature: 0.2\n",
            "s strong to was strong his hands to the start of the streating at the streated the streated to his to any the streating the most the streated to the strong the streated the streating and the streated to the strong the streated and the stried the room to his had been the streated to his sime him and the streated and the strong the streating the streath the confice of the streated to the streating t\n",
            "---- temperature: 0.5\n",
            "he two shouted to him and he heard the first the group him.\n",
            "     \"i don't know that's everything to do you think i man was signing to finity streate to the down. it doing was\n",
            "brown all and probling to the still his cants the chaplain stopping the but he was the chaplain was surposs of the two strung he was not the one seconded the hospital think hands the started to an helloned to be the shoot for\n",
            "---- temperature: 1.0\n",
            "\n",
            "which of them for pisticolatedly\n",
            "plane in oching his men in a fat enct. and\n",
            "him. cothan face.\n",
            "     \"sertillute's\n",
            "grinching go it, puties's face fas. pere to the more him. the and was\n",
            "surpeals hathese and whimpardly runele.\" the one onch comminden, and get a bollow, addicated alone was was dovelted\n",
            "sighter craces, for the\n",
            "uninelly to lived his hallation outhatil\n",
            "had\n",
            "get no longing\n",
            "in his had kept\n",
            "\n",
            "---- temperature: 1.2\n",
            "was not he hasta evastick, if i tere whilf you ove\n",
            "have a searfory men to promsint,\n",
            "the facl.\n",
            "     \"just let you came me couldn grie doc.\"\n",
            "     \"it's daying, you, sirli for that samepness betriining abouting at, mulownason outindy flufty dommenstaps and all nackon exherss and\n",
            "joke was over. he was partable rettwert\n",
            "glest\n",
            "dark.\n",
            " his\n",
            "poers les kofblitener vittimate was furry facts tell, waw, sendica\n",
            "epoch 4\n",
            "2707/2707 [==============================] - 19s 7ms/step - loss: 1.4310 - accuracy: 0.5681\n",
            "--- Generating with seed: \"panic of the man screaming for help to the police\n",
            "while poli\"\n",
            "---- temperature: 0.2\n",
            "ng the time they were not to see and shouted to the sent the more of his second and he was a first the first the chaplain was not the chaplain was the controlate of his life the strangers with a strangers and the shoulders and stop of the streating and his head with a start with a strong and down and shouted and she was a feet more the squadron and a start of the streated some of the first the sta\n",
            "---- temperature: 0.5\n",
            "re in a scared to his come not that he was a discommering the enders of pay to free in the face that he was mission\n",
            "of his lised with a good the controus so on intervound him with a fine the people with the mission. he was exactly of the colonel knowed with a stop the roor and like pumbled at the hospital and from the tall with his own of officers with the streed his his beling for him and was to \n",
            "---- temperature: 1.0\n",
            "but repodalate with\n",
            "dolmente milo had when to order, they well? pain the charrility. \"she a fursesh but his eyes\n",
            "deip bulld me, say and all the prefes. milutels throat in dis face-chail door cap, told, him beound highs of the only poojoy of the people said. \"do you didn't wondered sight. \"i'll hole you.\"\n",
            "     milo smored apound cheeked foue of his had week of his pleaaly back rose, beviltish me. w\n",
            "---- temperature: 1.2\n",
            "hen i in,\"\n",
            " a grumping oc, to. \"we'll,\"\n",
            "     \"is goominged tracish,\" neated knebyan about her waits eetterm chestlean in a solish, was areat, for\n",
            "contor turnagess. agno?\"\n",
            "     \"when they woll me.\" mcw-26thou, and hit hadd a perkef me.4\n",
            "     \"generous aid you wonserniign it.\"\n",
            "     forched to collfap? there was you forthout signia,\" he tene whend he\n",
            "kecked\n",
            "agne beling sayen:\n",
            "     1he\n",
            "hulba through t\n",
            "epoch 5\n",
            "2707/2707 [==============================] - 20s 7ms/step - loss: 1.4198 - accuracy: 0.5704\n",
            "--- Generating with seed: \"hen. on the judgment day. yes, that's the day i'll be close \"\n",
            "---- temperature: 0.2\n",
            "in the strange and the man who godded the most the start of the stopped the chaplain back to the start of the same the stop of the floor him and stopped the streated to subbat he was a feet for the man who really a share of the same the stop and looked the start of the streated the streated and the same the stopped the stopped the streated the streated the streated the started to his face and shou\n",
            "---- temperature: 0.5\n",
            "ted to so but the war with a clear him for a morting about it and hungry joe here he was a strandly who round him and letter and see, said of him and like a lately and put him and reloing with and man orr major major major danby domn the sected the dows filled and trave to orr was the more courtences. \"i cap was all the same of the still the would look so that and the hell we're not to smouthing t\n",
            "---- temperature: 1.0\n",
            "o puty,\" he was just from him to the\n",
            "very distrejoned dobb, too, with a sompopt with a heady up there worldy on bastarmommerastly.\n",
            "     doctor declared your diest revended,\" he stop wing away for him weat. repain the getminally alout the roam him and roped to take ithous all high\n",
            "better field worl doep to the night\n",
            "to all was no knew a mentily; i've would jump with more to page agring to guy by th\n",
            "---- temperature: 1.2\n",
            "at wo, yossarian packed. half grew what he crew. \"not for nosholder of the\n",
            "fly mwint-by clast.\"\n",
            "     \"haspey't new him? you follusy him by coulgn't want told.\"\n",
            "     \"you can was not sope them,\" hus oft dunble whose nege surget -then-whers mire doing deen muck.\"\n",
            "he book 37heller with the skeat of the blues querking. why happled?\"\n",
            "     \"tell age mouth murairones ear ropting,\" did you agat: a remage \n",
            "epoch 6\n",
            "2707/2707 [==============================] - 20s 8ms/step - loss: 1.4088 - accuracy: 0.5739\n",
            "--- Generating with seed: \"ly. he was downcast and burdened with self-reproach when he \"\n",
            "---- temperature: 0.2\n",
            "was a feet from the chaplain before he was a colonel cathcart was still the streated the streating the still the colonel cathcart was still the first the first the bead the time the tent to see the bead the first the fleak the streated the bombardier in the flew him to be the streated to see the chaplain was still the face the back to stear who was a fine the streated the streating the first the t\n",
            "---- temperature: 0.5\n",
            "wo them the fist of a brown. he think he would be surpeated colonel korn answered to same the room with the was a person with his was them tried to group helple and good in the distort with been to the feeling and like different and find of the one of the cold in his poot and from the orderly as he was as of the hower lefule the room the tent before himself a hollowant scheisskopf and then he was \n",
            "---- temperature: 1.0\n",
            "near was had been seecity with a group name, was let them has back day\n",
            "eashing, with the gram trying blum, he secced about theroked to yossarian looking thime was flithting, coutton at groughher frangines\n",
            "profit opebcerserow.\n",
            "     \"are wosling with that yough in toe see\n",
            "at\n",
            "tree ir them\n",
            "justing she\n",
            "stapperd, thouse he was as himsele.\"\n",
            "     \"arough\n",
            "someys us\n",
            "from the edsy to for,\n",
            "hel.\n",
            "     she was r\n",
            "---- temperature: 1.2\n",
            "ols. colonel korg\n",
            "busing\n",
            "good, londment ve and; havin the ellay, doving thun in time that day, from wasneg, tought unoma hia in readly\n",
            "dunbar men\n",
            "from howers. suy dobara. 94h, eithenther yor.\"\n",
            "     \"any being bore\n",
            "interes well ser? what a shood of.\"\n",
            "ho, holdy nevery\n",
            "peep that of a wosly aiffedmints and after he give that i'r bed\n",
            "falls of aunoosting reaten 5athcallanisstant heakyed himpelf ifters i\n",
            "epoch 7\n",
            "2707/2707 [==============================] - 20s 7ms/step - loss: 1.3993 - accuracy: 0.5759\n",
            "--- Generating with seed: \"aptist, and that it was therefore neither\n",
            "necessary nor corr\"\n",
            "---- temperature: 0.2\n",
            "on as he had not a flached in the shoulders and the chaplain was a strimples and the officers with a started and was a beally and the time he was a stranger of the officers and shoulded to his liver and parders and the best of the streather and the time he was a flying the started and the sent shoulders and shoulder in the sidely and the shoulder the time of the controlation of his sidele and the \n",
            "---- temperature: 0.5\n",
            "two the two she slipped over the armoned to the whole thouse of the shook the distrously and bowed from the later the time and the plane can madquared him away in the startion. he had no sot make the chaplain redomn in a bodsting staid who was a good to the other something and returned to the officers was plane with his own on the secutence men him the head from the chaplain was day so man in the \n",
            "---- temperature: 1.0\n",
            "moded under over his pomettesing this felt you in being whom were ners once string each over\n",
            "marnet. he did that what good there home colvarge duncera exprefbaging dripping old right chorled. it was a bubbullfortly. ehey,\n",
            "passionse strainess irrually felt and they thought\n",
            "ho'll memed the gisttent agrite on window. no! do that\n",
            "wear over youngled., what'i did the lists,\" catch-22\n",
            "shoudded. i don't b\n",
            "---- temperature: 1.2\n",
            "ushed, didn't i just up goyent sandseve to for he medrise to the bomborn-oving donyed, or. \"we'd has my,\" clevinger. \"what you bombered what you's jux might spisem?\"\n",
            "     dunce\n",
            "43heller, jostorira althohs raded, lio urneddably midde sornardes at altholdger dobseant yossarian goun arnowher heally out in itcwatmed down of chemsent, gnemoros. \"and shet you right.\"\n",
            "     \"gones? as nothing shided.\"\n",
            "   \n",
            "epoch 8\n",
            "2707/2707 [==============================] - 20s 7ms/step - loss: 1.3900 - accuracy: 0.5788\n",
            "--- Generating with seed: \"major major of food, even if major major was a\n",
            "communist, wh\"\n",
            "---- temperature: 0.2\n",
            "o was a brown and began to make a start of the first the most the most the streated to the that he was a strending to the floor of the money in the man was a start of the formorded the face of the colonel cathcart was a feet the most the most and some of the face of the face with a start of the dropped the first the first the face of the told him and the one of the most and something the most of t\n",
            "---- temperature: 0.5\n",
            "he floor him and possion who was a fly more to colonel cathcart was still side and his from sergeant to shooting in the back and some that in the contrility. yossarian had going to his fling of minuter from the but face came to the morting and confused at the first the shoulder that major major major said of the colonel had a care with a compressed the first the the month on the faced the month on\n",
            "---- temperature: 1.0\n",
            "\n",
            "the\n",
            "surning and were instarmen boloneming his slimped and and redreet hands pats with\n",
            "pull me tomatious as them dayming the nar distroble affeen of conducipied, soffun in his manable of his wife major mission to do you're sold nondy i'r survarit. and you stime?\"\n",
            "     \"he had isked, \"nearned isn't he?\"\n",
            "     \"are you withly?\"\n",
            "     \"you did.\"\n",
            "    \n",
            "\"betthrir-\"\n",
            "     yossarian was my gave himsele. the \n",
            "---- temperature: 1.2\n",
            "did not prondy time we'r complogre, colonel cathcart is a book?' dut, mnjoio!\" yossarian back to hurned backers of his lotterasked if they had lift.\n",
            "     \"certaa,\"'s they wardin's\n",
            "rustsly\n",
            "mils foilleation. \"why did so you've doctitted moven offitere?\"\n",
            "yossarian ssone-posted. milo gloigh to regainiantly whore's always, that i-i. will be regumarfum deinged which therels,\"\n",
            "     colonel korn from the\n",
            "\n",
            "epoch 9\n",
            "2707/2707 [==============================] - 20s 7ms/step - loss: 1.3813 - accuracy: 0.5818\n",
            "--- Generating with seed: \"s were following us around with all their equipment just to \"\n",
            "---- temperature: 0.2\n",
            "do with a second with a potter to the startion and his fingers and the hospital to she was and the contrite that he was and start and his fingers and the chaplain was a feet and his fingers and his fingers and the chaplain was a prove with a colonel cathcart some the second to the streated and start and the second to the streeted to the part of the chaplain was a feet and the chaplain back and the\n",
            "---- temperature: 0.5\n",
            " forther and still turned to the crazy. \"i don't know it's fried and made their in the mart me.\"\n",
            "     \"why didn't you the letter we all.\"\n",
            "     \"where well, i sudder the fick to say the only isn't the was a sign and the besk man in the men and shook and in the streeted kid save of the chaplain both spot of for a feet redoded and in her in the orderly in the mission when he let his own colonel cathc\n",
            "---- temperature: 1.0\n",
            "art's ruared inside the blove outingi? who was ellet working for yiver for aligract of sack to the most look.\"\n",
            "     \"i know he's gus? milo had new conceitied.\"\n",
            "ac brome more around time him washen turned him for shimmer when an pared with a goddantly\n",
            "in twenty of sezzing infultedly; she yead worlunged unach their slot up knen if his lide out ittomy rutil and crissed. and insedent major than bit it\n",
            "---- temperature: 1.2\n",
            " weethent lotse. old yoar drepped gavial on twee arobs intrity.\n",
            "the coloset him with\n",
            "ansectiousl had\n",
            "forgoss. yossarian grave\n",
            "begin look her. bolly's gongual or lieutenanted. mcwats am a fresy, and 8o delocion selliter to alletching the rome, that carefuld the cippord!\n",
            "than't be to state me. common't mighled,\" he repifted carressly. \"what whally me. you, i've got to people it, their watged to?\"\n",
            "  \n",
            "epoch 10\n",
            "2707/2707 [==============================] - 20s 7ms/step - loss: 1.3734 - accuracy: 0.5835\n",
            "--- Generating with seed: \"mouth.\n",
            "     \"i told you not to do it,\" colonel korn snickere\"\n",
            "---- temperature: 0.2\n",
            "d the started the controls with a started to the look the started the time the chaplain was a colonel cathcart was start of the plane of the chaplain was a feet at the controls of the but him and her to the starting the war with a startion to the startion. \"i was the most to the most that was that the men that was the street for the brown and sent to his face and paraded and start of the started h\n",
            "---- temperature: 0.5\n",
            "im out of the plane and too before with a probing to be a divide the sected with a started and only that major major was fist and repered and lifted all confided the confession to the grew the moated the bombs of the strange to the room with a huplence and and had still decanded with his chaplain for a back to his servelless of the enffort of country read him. \"i don't know, i did to the bod, i su\n",
            "---- temperature: 1.0\n",
            "ghling about spacatel. colonel? you kien in the short madit with the good merally of thought a tent across for in thouse we dat ortie to   he could out asfuring his enlisted in\n",
            "in openess only ex, perid with sumposs to wife a meloratoeses to keppe.\n",
            "    \n",
            "     \"this worred.\"\n",
            "     \"no ort whize as aare play on the hell overchagbly.' laughation tellost. i can rel. for\n",
            "pocile general menosing 3urlike a\n",
            "---- temperature: 1.2\n",
            "gnedywon left a\n",
            "tenapious in ussald, and denevtonats fidder thinks of suffa helpod lept agning, regulfarm.\n",
            "has her through the parking. the levecoooiblosts sene. and sex-id.\n",
            "you're corrorination,\" pangeratuor howtens, urle sudatiy epeded up. \"20.      he caundered and the issorte. \"this condered more thatke almove.\" we end. that then\n",
            "alone with seeg him, on the genear, at on himselven and alway-du\n",
            "epoch 11\n",
            "2707/2707 [==============================] - 20s 7ms/step - loss: 1.3655 - accuracy: 0.5854\n",
            "--- Generating with seed: \"ennial\n",
            "weeds growing between his rusty soupcan urinal with n\"\n",
            "---- temperature: 0.2\n",
            "othing and the chaplain was a send the sent all the most and the only the person when he said out of the control to the stop of a milo. he had no something to stop of a from the only the part and shoulder the first the chaplain before he was a clear and the colonel cathcart was stopped the chaplain was almost the chaplain was stopped the control to his face and shoulder with a stranger of a strang\n",
            "---- temperature: 0.5\n",
            "less of before on the sent of a share of probing to be to do with a plane almost to a very mobles of person who had no somether and a fele him get at his learing and as he condered to she was some from men while he had no something half and stopped and was running him and there she sot of a second with a briggering his landing and the way the stopped him with the streather of his each and into the\n",
            "---- temperature: 1.0\n",
            " officers' water. \"that's a\n",
            "chaccal?\n",
            "pelway! of ougher jait. major, page 18heller, joseph: catch-22\n",
            "haggnesh him haughations him. they had wought anithing on ueto old do an answerbard in the lompthing drabien,\n",
            "controd and make milling as were to belen intilled out of the collain, itnembinders who well about you're ain by, before imanow you slopp over with a plead gould to the face voince was almos\n",
            "---- temperature: 1.2\n",
            "t runnigatus both haspitian in that deswerently,\n",
            "put inunly on colonel forgere as what's puround pointeul walks for liking to cavery back in a saughhopossoly's filling desquadably for up than besweading you. no hearg\n",
            "guining up. achiant.\"\n",
            "     urgilizesting by the only share out ap its. they lard and cried spaseded to\n",
            "egghinaclisy, and did because they a deap his come.\n",
            "ariey, thought they lacked h\n",
            "epoch 12\n",
            "2707/2707 [==============================] - 20s 8ms/step - loss: 1.3590 - accuracy: 0.5876\n",
            "--- Generating with seed: \" out. as\n",
            "soon as he did realize it, corporal whitcomb walked\"\n",
            "---- temperature: 0.2\n",
            " and the war was a streated and should with a streated and catched the war was a stranger of a stranger of the first the way the profit of the baddant and shouted and was a good and the bead the co"
          ]
        }
      ]
    }
  ]
}